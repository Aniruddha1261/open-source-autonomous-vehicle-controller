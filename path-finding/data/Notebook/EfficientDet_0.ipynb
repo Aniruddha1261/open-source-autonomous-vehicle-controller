{
  "cells": [
    {
      "cell_type": "markdown",
      "metadata": {
        "id": "1jiBXNxMXNx-"
      },
      "source": [
        "# Cone Detection using EfficientDet-0"
      ]
    },
    {
      "cell_type": "markdown",
      "metadata": {
        "id": "KIaURkKDXhX_"
      },
      "source": [
        "#### Connecting Google Drive"
      ]
    },
    {
      "cell_type": "code",
      "execution_count": null,
      "metadata": {
        "id": "kJXazPh_kwvZ"
      },
      "outputs": [],
      "source": [
        "from google.colab import drive\n",
        "drive.mount('/content/drive')\n",
        "%cd /content/drive/MyDrive"
      ]
    },
    {
      "cell_type": "markdown",
      "metadata": {
        "id": "d069sAPCaElw"
      },
      "source": [
        "### [TensorFlow-models](https://github.com/tensorflow/models) Installation  "
      ]
    },
    {
      "cell_type": "code",
      "execution_count": null,
      "metadata": {
        "id": "f1CoKuhow2og"
      },
      "outputs": [],
      "source": [
        "!pip install tensorflow==2.7.0"
      ]
    },
    {
      "cell_type": "markdown",
      "metadata": {
        "id": "isRPk8EzcIR7"
      },
      "source": [
        "#### Cloning the repository"
      ]
    },
    {
      "cell_type": "code",
      "execution_count": null,
      "metadata": {
        "id": "E5rPw6sbxLRp"
      },
      "outputs": [],
      "source": [
        "import os\n",
        "import pathlib\n",
        "\n",
        "# Clone the tensorflow models repository if it doesn't already exist\n",
        "if \"models\" in pathlib.Path.cwd().parts:\n",
        "    while \"models\" in pathlib.Path.cwd().parts:\n",
        "      os.chdir('..')\n",
        "elif not pathlib.Path('models').exists():\n",
        "  !git clone --depth 1 https://github.com/tensorflow/models"
      ]
    },
    {
      "cell_type": "markdown",
      "metadata": {
        "id": "gL1Xpm14cdJF"
      },
      "source": [
        "#### Python package installation"
      ]
    },
    {
      "cell_type": "code",
      "execution_count": null,
      "metadata": {
        "id": "gTGgTv1oxkSA"
      },
      "outputs": [],
      "source": [
        "%cd /content/drive/MyDrive/models/research\n",
        "!protoc object_detection/protos/*.proto --python_out=.\n",
        "!cp object_detection/packages/tf2/setup.py .  \n",
        "!python -m pip install ."
      ]
    },
    {
      "cell_type": "markdown",
      "metadata": {
        "id": "VQxVH3CHeSgf"
      },
      "source": [
        "#### Testing the installation"
      ]
    },
    {
      "cell_type": "code",
      "execution_count": null,
      "metadata": {
        "id": "kXfdu981xpEZ"
      },
      "outputs": [],
      "source": [
        "!python object_detection/builders/model_builder_tf2_test.py"
      ]
    },
    {
      "cell_type": "markdown",
      "metadata": {
        "id": "a372GUJqfpLn"
      },
      "source": [
        "#### Generating TFrecords\n",
        "> TensorFlow uses tfrecords(a simple format for storing a sequence of binary records) to train an machine learning model.<br>\n",
        "> Using ```generate_tfrecord.py```, training and validation records are generated."
      ]
    },
    {
      "cell_type": "code",
      "execution_count": null,
      "metadata": {
        "id": "9_C_oZzaxrnx"
      },
      "outputs": [],
      "source": [
        "%cd /content/drive/MyDrive/workspace/eff_det\n",
        "# Create test data:\n",
        "!python generate_tfrecord.py -x test_images/ -l annotations/label_map.pbtxt -o annotations/test.record\n",
        "\n",
        "# Create train data:\n",
        "!python generate_tfrecord.py -x images/ -l annotations/label_map.pbtxt -o annotations/train.record"
      ]
    },
    {
      "cell_type": "markdown",
      "metadata": {
        "id": "OEiPHjKliK76"
      },
      "source": [
        "#### Uisng TensorBoard for monitoring the results\n",
        "> The training logs are stored in ./output_training. With the help of TensorBaord, visualisation will be done.<br> \n",
        "> Before, starting to train the model, I initliase the tensorboard so that the graphs are visible during training."
      ]
    },
    {
      "cell_type": "code",
      "execution_count": null,
      "metadata": {
        "id": "Rdc_jGkfyHYv"
      },
      "outputs": [],
      "source": [
        "%load_ext tensorboard\n",
        "%tensorboard --logdir=/content/drive/MyDrive/workspace/eff_det/models/efficientdet_d0_coco17_tpu-32/"
      ]
    },
    {
      "cell_type": "markdown",
      "metadata": {
        "id": "N_SNNmGQjwC8"
      },
      "source": [
        "#### Start Training process\n",
        "> Before starting to train the model, check the config pipeline.\n",
        "> In case you face an error with OpenCV execute code block below, else skip it\n",
        "\n"
      ]
    },
    {
      "cell_type": "code",
      "execution_count": null,
      "metadata": {
        "id": "4IJl822VCL2V"
      },
      "outputs": [],
      "source": [
        "# In case of an error, ensure OpenCV version is set\n",
        "!pip uninstall opencv-python-headless==4.5.5.62\n",
        "!pip install opencv-python-headless==4.5.2.52"
      ]
    },
    {
      "cell_type": "code",
      "execution_count": null,
      "metadata": {
        "id": "lQxM72_8zOrb"
      },
      "outputs": [],
      "source": [
        "%cd /content/drive/MyDrive/workspace/eff_det/\n",
        "#train \n",
        "!python model_main_tf2.py --model_dir=models/efficientdet_d0_coco17_tpu-32 --pipeline_config_path=models/efficientdet_d0_coco17_tpu-32/pipeline.config\n"
      ]
    },
    {
      "cell_type": "markdown",
      "metadata": {
        "id": "FzHGgg8RkZ-R"
      },
      "source": [
        "#### Creating Inference Graph\n",
        "> Exporting the inference graph. Inference graph is the saved model which we have trained. Now I will use these for testing the model."
      ]
    },
    {
      "cell_type": "code",
      "execution_count": null,
      "metadata": {
        "id": "T3jmko291feK"
      },
      "outputs": [],
      "source": [
        "%cd /content/drive/MyDrive/workspace/eff_det/\n",
        "\n",
        "!python exporter_main_v2.py --input_type image_tensor \\\n",
        "--pipeline_config_path models/efficientdet_d0_coco17_tpu-32/pipeline.config \\\n",
        "--trained_checkpoint_dir models/efficientdet_d0_coco17_tpu-32/ \\\n",
        "--output_directory final_model/"
      ]
    },
    {
      "cell_type": "markdown",
      "metadata": {
        "id": "cby1f65TldsN"
      },
      "source": [
        "#### Inference on image"
      ]
    },
    {
      "cell_type": "code",
      "execution_count": null,
      "metadata": {
        "id": "neyAcWQE9LTD"
      },
      "outputs": [],
      "source": [
        "\"\"\"\n",
        "Object Detection (On Image) From tf2.0 Saved Model\n",
        "=====================================\n",
        "\"\"\"\n",
        "\n",
        "import os\n",
        "os.environ['TF_CPP_MIN_LOG_LEVEL'] = '2'    # Suppress TensorFlow logging (1)\n",
        "import pathlib\n",
        "import tensorflow as tf\n",
        "import cv2\n",
        "from google.colab.patches import cv2_imshow\n",
        "\n",
        "# Enable GPU dynamic memory allocation\n",
        "gpus = tf.config.experimental.list_physical_devices('GPU')\n",
        "for gpu in gpus:\n",
        "    tf.config.experimental.set_memory_growth(gpu, True)\n",
        "\n",
        "# PROVIDE PATH TO IMAGE DIRECTORY\n",
        "IMAGE_PATHS = '/content/drive/MyDrive/workspace/eff_det/test_images/753_jpg.rf.5a1b80aa587b9f51d1ceddc886074cad.jpg'\n",
        "\n",
        "# PROVIDE PATH TO MODEL DIRECTORY\n",
        "PATH_TO_MODEL_DIR = '/content/drive/MyDrive/workspace/eff_det/final_model/saved_model'\n",
        "\n",
        "# PROVIDE PATH TO LABEL MAP\n",
        "PATH_TO_LABELS = '/content/drive/MyDrive/workspace/eff_det/annotations/label_map.pbtxt'\n",
        "\n",
        "# PROVIDE THE MINIMUM CONFIDENCE THRESHOLD\n",
        "MIN_CONF_THRESH = float(0.60)\n",
        "\n",
        "# LOAD THE MODEL\n",
        "\n",
        "import time\n",
        "from object_detection.utils import label_map_util\n",
        "from object_detection.utils import visualization_utils as viz_utils\n",
        "\n",
        "PATH_TO_SAVED_MODEL = PATH_TO_MODEL_DIR\n",
        "\n",
        "print('Loading model...', end='')\n",
        "start_time = time.time()\n",
        "\n",
        "# LOAD SAVED MODEL AND BUILD DETECTION FUNCTION\n",
        "detect_fn = tf.saved_model.load(PATH_TO_SAVED_MODEL)\n",
        "\n",
        "end_time = time.time()\n",
        "elapsed_time = end_time - start_time\n",
        "print('Done! Took {} seconds'.format(elapsed_time))\n",
        "\n",
        "# LOAD LABEL MAP DATA FOR PLOTTING\n",
        "\n",
        "category_index = label_map_util.create_category_index_from_labelmap(PATH_TO_LABELS, use_display_name=True)\n",
        "\n",
        "import numpy as np\n",
        "from PIL import Image\n",
        "import matplotlib.pyplot as plt\n",
        "import warnings\n",
        "warnings.filterwarnings('ignore')   # Suppress Matplotlib warnings\n",
        "\n",
        "def load_image_into_numpy_array(path):\n",
        "    \"\"\"Load an image from file into a numpy array.\n",
        "    Puts image into numpy array to feed into tensorflow graph.\n",
        "    Note that by convention we put it into a numpy array with shape\n",
        "    (height, width, channels), where channels=3 for RGB.\n",
        "    Args:\n",
        "      path: the file path to the image\n",
        "    Returns:\n",
        "      uint8 numpy array with shape (img_height, img_width, 3)\n",
        "    \"\"\"\n",
        "    return np.array(Image.open(path))\n",
        "\n",
        "print('Running inference for {}... '.format(IMAGE_PATHS), end='')\n",
        "\n",
        "image_ = cv2.imread(IMAGE_PATHS)\n",
        "image = cv2.cvtColor(image_, cv2.COLOR_BGR2RGB)\n",
        "# The input needs to be a tensor, convert it using `tf.convert_to_tensor`.\n",
        "input_tensor = tf.convert_to_tensor(image)\n",
        "# The model expects a batch of images, so add an axis with `tf.newaxis`.\n",
        "input_tensor = input_tensor[tf.newaxis, ...]\n",
        "\n",
        "# input_tensor = np.expand_dims(image_np, 0)\n",
        "detections = detect_fn(input_tensor)\n",
        "\n",
        "# All outputs are batches tensors.\n",
        "# Convert to numpy arrays, and take index [0] to remove the batch dimension.\n",
        "# We're only interested in the first num_detections.\n",
        "num_detections = int(detections.pop('num_detections'))\n",
        "detections = {key: value[0, :num_detections].numpy()\n",
        "               for key, value in detections.items()}\n",
        "detections['num_detections'] = num_detections\n",
        "\n",
        "# detection_classes should be ints.\n",
        "detections['detection_classes'] = detections['detection_classes'].astype(np.int64)\n",
        "\n",
        "image_with_detections = image.copy()\n",
        "\n",
        "# SET MIN_SCORE_THRESH BASED ON YOU MINIMUM THRESHOLD FOR DETECTIONS\n",
        "viz_utils.visualize_boxes_and_labels_on_image_array(\n",
        "      image_with_detections,\n",
        "      detections['detection_boxes'],\n",
        "      detections['detection_classes'],\n",
        "      detections['detection_scores'],\n",
        "      category_index,\n",
        "      use_normalized_coordinates=True,\n",
        "      max_boxes_to_draw=200,\n",
        "      min_score_thresh=0.5,\n",
        "      agnostic_mode=False)\n",
        "\n",
        "print('Done')\n",
        "# DISPLAYS OUTPUT IMAGE\n",
        "image_with_detections = cv2.cvtColor(image_with_detections, cv2.COLOR_BGR2RGB)\n",
        "cv2_imshow(image_with_detections)\n",
        "# CLOSES WINDOW ONCE KEY IS PRESSED\n"
      ]
    }
  ],
  "metadata": {
    "accelerator": "GPU",
    "colab": {
      "collapsed_sections": [],
      "name": "EfficientDet-0.ipynb",
      "provenance": []
    },
    "kernelspec": {
      "display_name": "Python 3",
      "language": "python",
      "name": "python3"
    },
    "language_info": {
      "codemirror_mode": {
        "name": "ipython",
        "version": 3
      },
      "file_extension": ".py",
      "mimetype": "text/x-python",
      "name": "python",
      "nbconvert_exporter": "python",
      "pygments_lexer": "ipython3",
      "version": "3.6.9"
    }
  },
  "nbformat": 4,
  "nbformat_minor": 0
}